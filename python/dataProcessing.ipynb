{
 "cells": [
  {
   "cell_type": "code",
   "execution_count": 1,
   "metadata": {},
   "outputs": [],
   "source": [
    "import os\n",
    "import random\n",
    "from shutil import copy2"
   ]
  },
  {
   "cell_type": "code",
   "execution_count": 2,
   "metadata": {},
   "outputs": [],
   "source": [
    "def data_set_split(src_data_folder, target_data_folder, train_scale=0.6, val_scale=0.2, test_scale=0.2):\n",
    "    '''\n",
    "    :param src_data_folder: 源文件夹\n",
    "    :param target_data_folder: 目标文件夹\n",
    "    :param train_scale: 训练集比例\n",
    "    :param val_scale: 验证集比例\n",
    "    :param test_scale: 测试集比例\n",
    "    :return:\n",
    "    '''\n",
    "    print(\"开始数据集划分\")\n",
    "    class_names = os.listdir(src_data_folder)\n",
    "    # 在目标目录下创建文件夹\n",
    "    split_names = ['train', 'val', 'test']\n",
    "    for split_name in split_names:\n",
    "        split_path = os.path.join(target_data_folder, split_name)\n",
    "        if os.path.isdir(split_path):\n",
    "            pass\n",
    "        else:\n",
    "            os.mkdir(split_path)\n",
    "        # 然后在split_path的目录下创建类别文件夹\n",
    "        for class_name in class_names:\n",
    "            class_split_path = os.path.join(split_path, class_name)\n",
    "            if os.path.isdir(class_split_path):\n",
    "                pass\n",
    "            else:\n",
    "                os.mkdir(class_split_path)\n",
    "\n",
    "    # 按照比例划分数据集，并进行数据图片的复制\n",
    "    # 首先进行分类遍历\n",
    "    for class_name in class_names:\n",
    "        current_class_data_path = os.path.join(src_data_folder, class_name)\n",
    "        current_all_data = os.listdir(current_class_data_path)\n",
    "        current_data_length = len(current_all_data)\n",
    "        current_data_index_list = list(range(current_data_length))\n",
    "        random.shuffle(current_data_index_list)\n",
    "\n",
    "        train_folder = os.path.join(os.path.join(target_data_folder, 'train'), class_name)\n",
    "        val_folder = os.path.join(os.path.join(target_data_folder, 'val'), class_name)\n",
    "        test_folder = os.path.join(os.path.join(target_data_folder, 'test'), class_name)\n",
    "        train_stop_flag = current_data_length * train_scale\n",
    "        val_stop_flag = current_data_length * (train_scale + val_scale)\n",
    "        current_idx = 0\n",
    "        train_num = 0\n",
    "        val_num = 0\n",
    "        test_num = 0\n",
    "        \n",
    "        for i in current_data_index_list:\n",
    "            src_img_path = os.path.join(current_class_data_path, current_all_data[i])\n",
    "            if current_idx <= train_stop_flag:\n",
    "                copy2(src_img_path, train_folder)\n",
    "                train_num = train_num + 1\n",
    "            elif (current_idx > train_stop_flag) and (current_idx <= val_stop_flag):\n",
    "                copy2(src_img_path, val_folder)\n",
    "                val_num = val_num + 1\n",
    "            else:\n",
    "                copy2(src_img_path, test_folder)\n",
    "                test_num = test_num + 1\n",
    "\n",
    "            current_idx = current_idx + 1\n",
    "\n",
    "        print(\"---------------------------------------{}---------------------------------------\".format(class_name))\n",
    "        print(\"{}类按照{}：{}：{}的比例划分完成，一共{}张图片\".format(class_name, train_scale, val_scale, test_scale, current_data_length))\n",
    "        print(\"训练集{}：{}张\".format(train_folder, train_num))\n",
    "        print(\"验证集{}：{}张\".format(val_folder, val_num))\n",
    "        print(\"测试集{}：{}张\".format(test_folder, test_num))"
   ]
  },
  {
   "cell_type": "code",
   "execution_count": 3,
   "metadata": {},
   "outputs": [
    {
     "name": "stdout",
     "output_type": "stream",
     "text": [
      "开始数据集划分\n",
      "---------------------------------------Crazing---------------------------------------\n",
      "Crazing类按照0.6：0.2：0.2的比例划分完成，一共300张图片\n",
      "训练集D:\\jupyter_notebook\\Split_Data\\train\\Crazing：181张\n",
      "验证集D:\\jupyter_notebook\\Split_Data\\val\\Crazing：60张\n",
      "测试集D:\\jupyter_notebook\\Split_Data\\test\\Crazing：59张\n",
      "---------------------------------------Inclusion---------------------------------------\n",
      "Inclusion类按照0.6：0.2：0.2的比例划分完成，一共300张图片\n",
      "训练集D:\\jupyter_notebook\\Split_Data\\train\\Inclusion：181张\n",
      "验证集D:\\jupyter_notebook\\Split_Data\\val\\Inclusion：60张\n",
      "测试集D:\\jupyter_notebook\\Split_Data\\test\\Inclusion：59张\n",
      "---------------------------------------Patches---------------------------------------\n",
      "Patches类按照0.6：0.2：0.2的比例划分完成，一共300张图片\n",
      "训练集D:\\jupyter_notebook\\Split_Data\\train\\Patches：181张\n",
      "验证集D:\\jupyter_notebook\\Split_Data\\val\\Patches：60张\n",
      "测试集D:\\jupyter_notebook\\Split_Data\\test\\Patches：59张\n",
      "---------------------------------------Pitted---------------------------------------\n",
      "Pitted类按照0.6：0.2：0.2的比例划分完成，一共300张图片\n",
      "训练集D:\\jupyter_notebook\\Split_Data\\train\\Pitted：181张\n",
      "验证集D:\\jupyter_notebook\\Split_Data\\val\\Pitted：60张\n",
      "测试集D:\\jupyter_notebook\\Split_Data\\test\\Pitted：59张\n",
      "---------------------------------------Rolled---------------------------------------\n",
      "Rolled类按照0.6：0.2：0.2的比例划分完成，一共300张图片\n",
      "训练集D:\\jupyter_notebook\\Split_Data\\train\\Rolled：181张\n",
      "验证集D:\\jupyter_notebook\\Split_Data\\val\\Rolled：60张\n",
      "测试集D:\\jupyter_notebook\\Split_Data\\test\\Rolled：59张\n",
      "---------------------------------------Scratches---------------------------------------\n",
      "Scratches类按照0.6：0.2：0.2的比例划分完成，一共300张图片\n",
      "训练集D:\\jupyter_notebook\\Split_Data\\train\\Scratches：181张\n",
      "验证集D:\\jupyter_notebook\\Split_Data\\val\\Scratches：60张\n",
      "测试集D:\\jupyter_notebook\\Split_Data\\test\\Scratches：59张\n"
     ]
    }
   ],
   "source": [
    "if __name__ == '__main__':\n",
    "    src_data_folder = \"D:\\jupyter_notebook\\Data\"\n",
    "    target_data_folder = \"D:\\jupyter_notebook\\Split_Data\"\n",
    "    data_set_split(src_data_folder, target_data_folder)"
   ]
  },
  {
   "cell_type": "code",
   "execution_count": null,
   "metadata": {},
   "outputs": [],
   "source": []
  }
 ],
 "metadata": {
  "kernelspec": {
   "display_name": "Python 3",
   "language": "python",
   "name": "python3"
  },
  "language_info": {
   "codemirror_mode": {
    "name": "ipython",
    "version": 3
   },
   "file_extension": ".py",
   "mimetype": "text/x-python",
   "name": "python",
   "nbconvert_exporter": "python",
   "pygments_lexer": "ipython3",
   "version": "3.8.5"
  }
 },
 "nbformat": 4,
 "nbformat_minor": 4
}
