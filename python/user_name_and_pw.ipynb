{
 "cells": [
  {
   "cell_type": "code",
   "execution_count": 1,
   "metadata": {},
   "outputs": [],
   "source": [
    "def get_user_name_and_pw():\n",
    "    import random\n",
    "    \n",
    "    user_name = ''\n",
    "    user_pw = ''\n",
    "    \n",
    "    #8位用户名及8位密码\n",
    "    user_name = ''.join(random.sample(\"1234567890abcdefghijklmnopqrstuvwxyzABCDEFGHIJKLMNOPQRSTUVWXYZ\",8))\n",
    "    user_pw = ''.join(random.sample(\"abcdefghijklmnopqrstuvwxyzABCDEFGHIJKLMNOPQRSTUVWXYZ_.1234567890\",8))\n",
    "    return user_name, user_pw"
   ]
  },
  {
   "cell_type": "code",
   "execution_count": 2,
   "metadata": {},
   "outputs": [],
   "source": [
    "headers = ['id', 'password']\n",
    "\n",
    "user_dict = {}\n",
    "table = []\n",
    "\n",
    "for i in range(1000000):\n",
    "    name, pw = get_user_name_and_pw()\n",
    "    user_dict[name] = pw\n",
    "    \n",
    "for ele in user_dict.items():\n",
    "    table.append([ele[0], ele[1]])"
   ]
  },
  {
   "cell_type": "code",
   "execution_count": 3,
   "metadata": {},
   "outputs": [],
   "source": [
    "import csv\n",
    "\n",
    "with open('user_csv.csv', 'w+', newline='') as f:\n",
    "    csv_writer = csv.writer(f)\n",
    "    csv_writer.writerow(headers)\n",
    "    csv_writer.writerows(table)"
   ]
  }
 ],
 "metadata": {
  "kernelspec": {
   "display_name": "Python 3",
   "language": "python",
   "name": "python3"
  },
  "language_info": {
   "codemirror_mode": {
    "name": "ipython",
    "version": 3
   },
   "file_extension": ".py",
   "mimetype": "text/x-python",
   "name": "python",
   "nbconvert_exporter": "python",
   "pygments_lexer": "ipython3",
   "version": "3.8.5"
  }
 },
 "nbformat": 4,
 "nbformat_minor": 4
}
